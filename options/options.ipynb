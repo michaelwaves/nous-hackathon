{
 "cells": [
  {
   "cell_type": "code",
   "execution_count": 3,
   "id": "cb23d3b9",
   "metadata": {},
   "outputs": [
    {
     "data": {
      "text/plain": [
       "True"
      ]
     },
     "execution_count": 3,
     "metadata": {},
     "output_type": "execute_result"
    }
   ],
   "source": [
    "from yahooquery import Ticker\n",
    "from openai import OpenAI\n",
    "from dotenv import load_dotenv\n",
    "import os\n",
    "load_dotenv()"
   ]
  },
  {
   "cell_type": "code",
   "execution_count": 4,
   "id": "6e4aeb03",
   "metadata": {},
   "outputs": [
    {
     "name": "stdout",
     "output_type": "stream",
     "text": [
      "ChatCompletion(id='2abd7259-7728-4a42-9085-00afa4eda59b', choices=[Choice(finish_reason='stop', index=0, logprobs=None, message=ChatCompletionMessage(content='Deciding whether to buy stock options for UnitedHealth Group (UNH) or any other company is a complex decision that depends on several factors, including your financial situation, risk tolerance, investment goals, and market analysis. I’m not a financial advisor, but I can provide some general guidance to help you think through the decision. Here are some key points to consider:\\n\\n### 1. Understand What Options Are\\n   - Stock options are derivatives that give you the right (but not the obligation) to buy or sell a stock at a specific price (strike price) before a certain date (expiration).\\n   - They are inherently riskier than owning the stock itself because they can expire worthless if the stock price doesn’t move in your favor.\\n   - Options are often used for speculation, hedging, or income generation (e.g., selling covered calls).\\n\\n### 2. Research UnitedHealth Group (UNH)\\n   - **Company Fundamentals**: UNH is a major player in the healthcare sector, offering insurance and health services through its UnitedHealthcare and Optum segments. Look at its recent earnings reports, revenue growth, profit margins, and debt levels. Check if there are any upcoming catalysts like earnings releases, regulatory changes, or lawsuits that could impact the stock.\\n   - **Stock Performance**: Review UNH’s historical stock price trends, volatility, and how it performs relative to the broader market (e.g., S&P 500) and its sector (healthcare).\\n   - **Analyst Sentiment**: See what analysts are saying about UNH. Are they bullish or bearish? What are their price targets?\\n\\n### 3. Market and Sector Conditions\\n   - **Healthcare Sector**: Consider trends in the healthcare industry, such as policy changes (e.g., Medicare for All debates or drug pricing reforms), demographic shifts (aging population), or technological advancements.\\n   - **Macro Environment**: Look at broader economic factors like interest rates, inflation, and recession risks, as these can affect healthcare stocks. For example, healthcare is often considered a defensive sector, meaning it may hold up better during economic downturns.\\n\\n### 4. Options-Specific Factors\\n   - **Type of Option**: Are you considering buying calls (betting the stock will go up) or puts (betting it will go down)? Your market outlook for UNH will determine this.\\n   - **Strike Price and Expiration**: Options with strike prices far from the current stock price (out-of-the-money) are cheaper but riskier. Longer expiration dates give more time for the stock to move but cost more in premiums.\\n   - **Implied Volatility (IV)**: High IV means options are more expensive (due to expected price swings), while low IV means they’re cheaper. Check UNH’s IV relative to its historical volatility.\\n   - **Time Decay (Theta)**: Options lose value as expiration approaches, especially if the stock price doesn’t move in your favor.\\n\\n### 5. Risk Tolerance and Capital\\n   - Options trading can result in significant losses, especially if you’re buying options (as opposed to selling them). Only invest money you can afford to lose.\\n   - If you’re new to options, consider paper trading (simulated trading) to practice without risking real money.\\n\\n### 6. Technical and Sentiment Analysis\\n   - **Technical Indicators**: Look at UNH’s chart for support/resistance levels, moving averages, or other indicators like RSI (Relative Strength Index) to gauge if the stock is overbought or oversold.\\n   - **News and Events**: Monitor news related to UNH, such as acquisitions, partnerships, or regulatory issues. Also, check for upcoming events like earnings or dividend announcements that could cause volatility.\\n\\n### 7. Alternatives to Options\\n   - If options seem too risky or complex, consider buying UNH stock directly or investing in a healthcare ETF (like XLV) for broader exposure to the sector with less risk.\\n   - You could also look into selling options (e.g., covered calls if you own the stock) to generate income with lower risk compared to buying options.\\n\\n### 8. Consult a Professional\\n   - If you’re unsure, speak with a financial advisor or broker who can provide personalized advice based on your financial situation and goals.\\n   - Ensure you understand the tax implications of options trading, as they can be different from stock trades.\\n\\n### Current Context for UNH (as of late 2023, if no recent data is provided)\\n   - UNH is generally seen as a stable, blue-chip stock with strong fundamentals, often favored by long-term investors due to its consistent growth and dividend payments.\\n   - However, healthcare stocks can be sensitive to political and regulatory risks (e.g., changes in healthcare policy).\\n   - Check the latest stock price, analyst ratings, and news before making a decision. As of my last update (October 2023), UNH has been performing well, but past performance is no guarantee of future results.\\n\\n### Final Thoughts\\nBuying UNH stock options could be a good idea if:\\n   - You have a strong, data-driven conviction about the direction of UNH’s stock price in the near term.\\n   - You understand options mechanics (Greeks, expiration, etc.) and are comfortable with the high risk.\\n   - You’ve done thorough research on UNH and the market.\\n\\nIt might not be a good idea if:\\n   - You’re new to options and don’t fully understand the risks.\\n   - You’re investing money you can’t afford to lose.\\n   - You don’t have a clear strategy or exit plan.\\n\\nUltimately, this decision should align with your overall investment strategy and risk tolerance. If you’re looking for specific data or a more tailored analysis, let me know, and I can help walk through additional details! Also, consider using resources like Yahoo Finance, Bloomberg, or your brokerage platform for the latest UNH data and options chains.', refusal=None, role='assistant', annotations=None, audio=None, function_call=None, tool_calls=None))], created=1747601879, model='grok-3-beta', object='chat.completion', service_tier=None, system_fingerprint='fp_087a63d8b1', usage=CompletionUsage(completion_tokens=1198, prompt_tokens=13, total_tokens=1211, completion_tokens_details=CompletionTokensDetails(accepted_prediction_tokens=0, audio_tokens=0, reasoning_tokens=0, rejected_prediction_tokens=0), prompt_tokens_details=PromptTokensDetails(audio_tokens=0, cached_tokens=0, text_tokens=13, image_tokens=0)))\n"
     ]
    }
   ],
   "source": [
    "stocks = ['UNH']\n",
    "X_API_KEY = os.getenv(\"X_API_KEY\")\n",
    "client = OpenAI(\n",
    "    api_key = X_API_KEY,\n",
    "    base_url =\"https://api.x.ai/v1\"\n",
    ")\n",
    "\n",
    "completion = client.chat.completions.create(\n",
    "    model=\"grok-3-beta\",\n",
    "    messages = [\n",
    "        {'role':'user', 'content':'should i buy unh stock options?'}\n",
    "    ]\n",
    ")\n",
    "\n",
    "print(completion)"
   ]
  }
 ],
 "metadata": {
  "kernelspec": {
   "display_name": "nous",
   "language": "python",
   "name": "python3"
  },
  "language_info": {
   "codemirror_mode": {
    "name": "ipython",
    "version": 3
   },
   "file_extension": ".py",
   "mimetype": "text/x-python",
   "name": "python",
   "nbconvert_exporter": "python",
   "pygments_lexer": "ipython3",
   "version": "3.13.2"
  }
 },
 "nbformat": 4,
 "nbformat_minor": 5
}
